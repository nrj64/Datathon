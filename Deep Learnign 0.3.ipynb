{
 "cells": [
  {
   "cell_type": "code",
   "execution_count": 1,
   "id": "50dccb9d-5aab-435f-8a20-8312894a259a",
   "metadata": {},
   "outputs": [],
   "source": [
    "import pandas as pd\n",
    "from sklearn.model_selection import train_test_split\n",
    "from sklearn.preprocessing import OneHotEncoder, MinMaxScaler"
   ]
  },
  {
   "cell_type": "code",
   "execution_count": 2,
   "id": "b4eb1a18-e3b7-4488-941c-c8293c29a33a",
   "metadata": {},
   "outputs": [],
   "source": [
    "# Suponiendo que 'df' es tu DataFrame\n",
    "df = pd.read_csv('df_completo.csv', index_col='Fecha_venta', parse_dates=True)"
   ]
  },
  {
   "cell_type": "code",
   "execution_count": 37,
   "id": "0ca86b16-ad31-47b6-98ee-5dfa65affb18",
   "metadata": {},
   "outputs": [
    {
     "name": "stdout",
     "output_type": "stream",
     "text": [
      "<class 'pandas.core.frame.DataFrame'>\n",
      "DatetimeIndex: 113254 entries, 2021-05-08 to 2024-04-30\n",
      "Data columns (total 8 columns):\n",
      " #   Column         Non-Null Count   Dtype  \n",
      "---  ------         --------------   -----  \n",
      " 0   ID_producto    113254 non-null  int64  \n",
      " 1   Cant_vendidas  113254 non-null  int64  \n",
      " 2   Precio_unidad  113254 non-null  float64\n",
      " 3   Dia_sem        113254 non-null  object \n",
      " 4   Promocion      113254 non-null  object \n",
      " 5   Año            113254 non-null  int64  \n",
      " 6   Mes            113254 non-null  int64  \n",
      " 7   Dia_del_Mes    113254 non-null  int64  \n",
      "dtypes: float64(1), int64(5), object(2)\n",
      "memory usage: 7.8+ MB\n"
     ]
    }
   ],
   "source": [
    "df.info()"
   ]
  },
  {
   "cell_type": "code",
   "execution_count": 9,
   "id": "6dc68e59-cb4c-49f8-bb5f-c581859b2195",
   "metadata": {},
   "outputs": [],
   "source": [
    "# Codificación de variables categóricas con OneHotEncoder\n",
    "encoder = OneHotEncoder(sparse_output=False)  # Esto asegura que la salida sea en formato denso\n",
    "encoded_features = encoder.fit_transform(df[['Dia_sem', 'Promocion']])\n",
    "encoded_features_df = pd.DataFrame(encoded_features, index=df.index, columns=encoder.get_feature_names_out())\n"
   ]
  },
  {
   "cell_type": "code",
   "execution_count": 10,
   "id": "cb5ae247-a65e-42a0-90ea-efc6532453e4",
   "metadata": {},
   "outputs": [],
   "source": [
    "# Normalización de 'Precio_unidad'\n",
    "scaler = MinMaxScaler()\n",
    "scaled_prices = scaler.fit_transform(df[['Precio_unidad']])\n",
    "scaled_prices_df = pd.DataFrame(scaled_prices, index=df.index, columns=['Precio_unidad'])"
   ]
  },
  {
   "cell_type": "code",
   "execution_count": null,
   "id": "09cd177d-834e-4dcc-a19e-32324bb5a36b",
   "metadata": {},
   "outputs": [],
   "source": []
  },
  {
   "cell_type": "code",
   "execution_count": 11,
   "id": "e856a62a-b2bd-4934-bf57-22ff84b234e4",
   "metadata": {},
   "outputs": [],
   "source": [
    "# Combinar todas las características\n",
    "X = pd.concat([encoded_features_df, scaled_prices_df, df[['Año', 'Mes', 'Dia_del_Mes']]], axis=1)\n",
    "y = df['Cant_vendidas']"
   ]
  },
  {
   "cell_type": "code",
   "execution_count": 12,
   "id": "2aeee455-e286-4182-87c2-63697845bd0a",
   "metadata": {},
   "outputs": [],
   "source": [
    "# División en conjuntos de entrenamiento, validación y prueba\n",
    "X_train, X_temp, y_train, y_temp = train_test_split(X, y, test_size=0.2, random_state=42)\n",
    "X_val, X_test, y_val, y_test = train_test_split(X_temp, y_temp, test_size=0.5, random_state=42)"
   ]
  },
  {
   "cell_type": "code",
   "execution_count": 27,
   "id": "2d0a1dfc-2039-490d-9189-4b1e88cf8daf",
   "metadata": {},
   "outputs": [
    {
     "name": "stderr",
     "output_type": "stream",
     "text": [
      "/usr/local/lib/python3.10/dist-packages/keras/src/layers/core/dense.py:87: UserWarning: Do not pass an `input_shape`/`input_dim` argument to a layer. When using Sequential models, prefer using an `Input(shape)` object as the first layer in the model instead.\n",
      "  super().__init__(activity_regularizer=activity_regularizer, **kwargs)\n"
     ]
    },
    {
     "name": "stdout",
     "output_type": "stream",
     "text": [
      "Training model for fold 1\n",
      "Score for fold 1: loss of 149.1055908203125\n",
      "Training model for fold 2\n"
     ]
    },
    {
     "name": "stderr",
     "output_type": "stream",
     "text": [
      "/usr/local/lib/python3.10/dist-packages/keras/src/layers/core/dense.py:87: UserWarning: Do not pass an `input_shape`/`input_dim` argument to a layer. When using Sequential models, prefer using an `Input(shape)` object as the first layer in the model instead.\n",
      "  super().__init__(activity_regularizer=activity_regularizer, **kwargs)\n"
     ]
    },
    {
     "name": "stdout",
     "output_type": "stream",
     "text": [
      "Score for fold 2: loss of 138.3135528564453\n",
      "Training model for fold 3\n"
     ]
    },
    {
     "name": "stderr",
     "output_type": "stream",
     "text": [
      "/usr/local/lib/python3.10/dist-packages/keras/src/layers/core/dense.py:87: UserWarning: Do not pass an `input_shape`/`input_dim` argument to a layer. When using Sequential models, prefer using an `Input(shape)` object as the first layer in the model instead.\n",
      "  super().__init__(activity_regularizer=activity_regularizer, **kwargs)\n"
     ]
    },
    {
     "name": "stdout",
     "output_type": "stream",
     "text": [
      "Score for fold 3: loss of 128.7842254638672\n",
      "Training model for fold 4\n"
     ]
    },
    {
     "name": "stderr",
     "output_type": "stream",
     "text": [
      "/usr/local/lib/python3.10/dist-packages/keras/src/layers/core/dense.py:87: UserWarning: Do not pass an `input_shape`/`input_dim` argument to a layer. When using Sequential models, prefer using an `Input(shape)` object as the first layer in the model instead.\n",
      "  super().__init__(activity_regularizer=activity_regularizer, **kwargs)\n"
     ]
    },
    {
     "name": "stdout",
     "output_type": "stream",
     "text": [
      "Score for fold 4: loss of 133.53834533691406\n",
      "Training model for fold 5\n"
     ]
    },
    {
     "name": "stderr",
     "output_type": "stream",
     "text": [
      "/usr/local/lib/python3.10/dist-packages/keras/src/layers/core/dense.py:87: UserWarning: Do not pass an `input_shape`/`input_dim` argument to a layer. When using Sequential models, prefer using an `Input(shape)` object as the first layer in the model instead.\n",
      "  super().__init__(activity_regularizer=activity_regularizer, **kwargs)\n"
     ]
    },
    {
     "name": "stdout",
     "output_type": "stream",
     "text": [
      "Score for fold 5: loss of 136.3859100341797\n",
      "Average Loss: 137.22552490234375\n"
     ]
    }
   ],
   "source": [
    "import numpy as np\n",
    "from sklearn.model_selection import KFold\n",
    "from tensorflow.keras.models import Sequential\n",
    "from tensorflow.keras.layers import Dense, Dropout\n",
    "from tensorflow.keras.regularizers import l1_l2\n",
    "\n",
    "def build_model():\n",
    "    model = Sequential([\n",
    "        Dense(64, activation='relu', kernel_regularizer=l1_l2(l1=0.01, l2=0.01), input_shape=(X_train.shape[1],)),\n",
    "        Dropout(0.5),\n",
    "        Dense(32, activation='relu', kernel_regularizer=l1_l2(l1=0.01, l2=0.01)),\n",
    "        Dropout(0.5),\n",
    "        Dense(1)\n",
    "    ])\n",
    "    model.compile(optimizer='adam', loss='mse')\n",
    "    return model\n",
    "\n",
    "# Preparar los datos (X, y ya deben estar definidos y preprocesados)\n",
    "kf = KFold(n_splits=5, shuffle=True, random_state=42)\n",
    "fold_no = 1\n",
    "losses = []\n",
    "\n",
    "for train_index, test_index in kf.split(X):\n",
    "    # Dividir los datos usando .iloc para acceder por índices numéricos\n",
    "    X_train, X_test = X.iloc[train_index], X.iloc[test_index]\n",
    "    y_train, y_test = y.iloc[train_index], y.iloc[test_index]\n",
    "    \n",
    "    # Construir el modelo\n",
    "    model = build_model()\n",
    "    \n",
    "    # Entrenar el modelo\n",
    "    print(f'Training model for fold {fold_no}')\n",
    "    model.fit(X_train, y_train, epochs=50, batch_size=32, verbose=0)\n",
    "    \n",
    "    # Evaluar el modelo\n",
    "    scores = model.evaluate(X_test, y_test, verbose=0)\n",
    "    print(f'Score for fold {fold_no}: {model.metrics_names[0]} of {scores}')\n",
    "    losses.append(scores)\n",
    "    fold_no += 1\n",
    "\n",
    "# Calcular promedio de la pérdida\n",
    "average_loss = np.mean(losses)\n",
    "print(f'Average Loss: {average_loss}')\n"
   ]
  },
  {
   "cell_type": "code",
   "execution_count": 28,
   "id": "1c202b4d-5133-4f9f-9a64-e7f469ae29cf",
   "metadata": {},
   "outputs": [],
   "source": [
    "# Compilar el modelo\n",
    "model.compile(optimizer='adam', loss='mse')"
   ]
  },
  {
   "cell_type": "code",
   "execution_count": 32,
   "id": "6d85c630-1c49-4bf7-b7a8-b0d06c63719f",
   "metadata": {},
   "outputs": [
    {
     "name": "stdout",
     "output_type": "stream",
     "text": [
      "Epoch 1/50\n",
      "\u001b[1m2832/2832\u001b[0m \u001b[32m━━━━━━━━━━━━━━━━━━━━\u001b[0m\u001b[37m\u001b[0m \u001b[1m7s\u001b[0m 2ms/step - loss: 117.8100 - val_loss: 134.0728\n",
      "Epoch 2/50\n",
      "\u001b[1m2832/2832\u001b[0m \u001b[32m━━━━━━━━━━━━━━━━━━━━\u001b[0m\u001b[37m\u001b[0m \u001b[1m3s\u001b[0m 987us/step - loss: 149.0045 - val_loss: 134.0711\n",
      "Epoch 3/50\n",
      "\u001b[1m2832/2832\u001b[0m \u001b[32m━━━━━━━━━━━━━━━━━━━━\u001b[0m\u001b[37m\u001b[0m \u001b[1m4s\u001b[0m 1ms/step - loss: 125.1790 - val_loss: 134.0731\n",
      "Epoch 4/50\n",
      "\u001b[1m2832/2832\u001b[0m \u001b[32m━━━━━━━━━━━━━━━━━━━━\u001b[0m\u001b[37m\u001b[0m \u001b[1m3s\u001b[0m 1ms/step - loss: 128.7003 - val_loss: 134.0731\n",
      "Epoch 5/50\n",
      "\u001b[1m2832/2832\u001b[0m \u001b[32m━━━━━━━━━━━━━━━━━━━━\u001b[0m\u001b[37m\u001b[0m \u001b[1m3s\u001b[0m 1ms/step - loss: 150.2926 - val_loss: 134.0711\n",
      "Epoch 6/50\n",
      "\u001b[1m2832/2832\u001b[0m \u001b[32m━━━━━━━━━━━━━━━━━━━━\u001b[0m\u001b[37m\u001b[0m \u001b[1m3s\u001b[0m 1ms/step - loss: 150.9754 - val_loss: 134.0722\n",
      "Epoch 7/50\n",
      "\u001b[1m2832/2832\u001b[0m \u001b[32m━━━━━━━━━━━━━━━━━━━━\u001b[0m\u001b[37m\u001b[0m \u001b[1m4s\u001b[0m 1ms/step - loss: 136.0549 - val_loss: 134.0727\n",
      "Epoch 8/50\n",
      "\u001b[1m2832/2832\u001b[0m \u001b[32m━━━━━━━━━━━━━━━━━━━━\u001b[0m\u001b[37m\u001b[0m \u001b[1m3s\u001b[0m 1ms/step - loss: 150.9092 - val_loss: 134.0714\n",
      "Epoch 9/50\n",
      "\u001b[1m2832/2832\u001b[0m \u001b[32m━━━━━━━━━━━━━━━━━━━━\u001b[0m\u001b[37m\u001b[0m \u001b[1m3s\u001b[0m 1ms/step - loss: 138.1068 - val_loss: 134.0721\n",
      "Epoch 10/50\n",
      "\u001b[1m2832/2832\u001b[0m \u001b[32m━━━━━━━━━━━━━━━━━━━━\u001b[0m\u001b[37m\u001b[0m \u001b[1m3s\u001b[0m 1ms/step - loss: 134.5048 - val_loss: 134.0723\n",
      "Epoch 11/50\n",
      "\u001b[1m2832/2832\u001b[0m \u001b[32m━━━━━━━━━━━━━━━━━━━━\u001b[0m\u001b[37m\u001b[0m \u001b[1m3s\u001b[0m 1ms/step - loss: 137.2714 - val_loss: 134.0716\n",
      "Epoch 12/50\n",
      "\u001b[1m2832/2832\u001b[0m \u001b[32m━━━━━━━━━━━━━━━━━━━━\u001b[0m\u001b[37m\u001b[0m \u001b[1m3s\u001b[0m 1ms/step - loss: 141.5476 - val_loss: 134.0719\n",
      "Epoch 13/50\n",
      "\u001b[1m2832/2832\u001b[0m \u001b[32m━━━━━━━━━━━━━━━━━━━━\u001b[0m\u001b[37m\u001b[0m \u001b[1m3s\u001b[0m 1ms/step - loss: 138.4120 - val_loss: 134.0724\n",
      "Epoch 14/50\n",
      "\u001b[1m2832/2832\u001b[0m \u001b[32m━━━━━━━━━━━━━━━━━━━━\u001b[0m\u001b[37m\u001b[0m \u001b[1m3s\u001b[0m 1ms/step - loss: 136.8595 - val_loss: 134.0723\n",
      "Epoch 15/50\n",
      "\u001b[1m2832/2832\u001b[0m \u001b[32m━━━━━━━━━━━━━━━━━━━━\u001b[0m\u001b[37m\u001b[0m \u001b[1m3s\u001b[0m 1ms/step - loss: 135.1032 - val_loss: 134.0720\n",
      "Epoch 16/50\n",
      "\u001b[1m2832/2832\u001b[0m \u001b[32m━━━━━━━━━━━━━━━━━━━━\u001b[0m\u001b[37m\u001b[0m \u001b[1m3s\u001b[0m 1ms/step - loss: 144.2391 - val_loss: 134.0717\n",
      "Epoch 17/50\n",
      "\u001b[1m2832/2832\u001b[0m \u001b[32m━━━━━━━━━━━━━━━━━━━━\u001b[0m\u001b[37m\u001b[0m \u001b[1m3s\u001b[0m 1ms/step - loss: 120.9123 - val_loss: 134.0721\n",
      "Epoch 18/50\n",
      "\u001b[1m2832/2832\u001b[0m \u001b[32m━━━━━━━━━━━━━━━━━━━━\u001b[0m\u001b[37m\u001b[0m \u001b[1m3s\u001b[0m 1ms/step - loss: 139.3006 - val_loss: 134.0723\n",
      "Epoch 19/50\n",
      "\u001b[1m2832/2832\u001b[0m \u001b[32m━━━━━━━━━━━━━━━━━━━━\u001b[0m\u001b[37m\u001b[0m \u001b[1m3s\u001b[0m 1ms/step - loss: 119.8101 - val_loss: 134.0724\n",
      "Epoch 20/50\n",
      "\u001b[1m2832/2832\u001b[0m \u001b[32m━━━━━━━━━━━━━━━━━━━━\u001b[0m\u001b[37m\u001b[0m \u001b[1m3s\u001b[0m 1ms/step - loss: 130.3844 - val_loss: 134.0719\n",
      "Epoch 21/50\n",
      "\u001b[1m2832/2832\u001b[0m \u001b[32m━━━━━━━━━━━━━━━━━━━━\u001b[0m\u001b[37m\u001b[0m \u001b[1m3s\u001b[0m 1ms/step - loss: 136.0411 - val_loss: 134.0726\n",
      "Epoch 22/50\n",
      "\u001b[1m2832/2832\u001b[0m \u001b[32m━━━━━━━━━━━━━━━━━━━━\u001b[0m\u001b[37m\u001b[0m \u001b[1m3s\u001b[0m 1ms/step - loss: 150.6457 - val_loss: 134.0719\n",
      "Epoch 23/50\n",
      "\u001b[1m2832/2832\u001b[0m \u001b[32m━━━━━━━━━━━━━━━━━━━━\u001b[0m\u001b[37m\u001b[0m \u001b[1m3s\u001b[0m 1ms/step - loss: 125.0701 - val_loss: 134.0715\n",
      "Epoch 24/50\n",
      "\u001b[1m2832/2832\u001b[0m \u001b[32m━━━━━━━━━━━━━━━━━━━━\u001b[0m\u001b[37m\u001b[0m \u001b[1m4s\u001b[0m 2ms/step - loss: 131.0308 - val_loss: 134.0718\n",
      "Epoch 25/50\n",
      "\u001b[1m2832/2832\u001b[0m \u001b[32m━━━━━━━━━━━━━━━━━━━━\u001b[0m\u001b[37m\u001b[0m \u001b[1m3s\u001b[0m 1ms/step - loss: 142.3189 - val_loss: 134.0721\n",
      "Epoch 26/50\n",
      "\u001b[1m2832/2832\u001b[0m \u001b[32m━━━━━━━━━━━━━━━━━━━━\u001b[0m\u001b[37m\u001b[0m \u001b[1m3s\u001b[0m 1ms/step - loss: 129.3897 - val_loss: 134.0730\n",
      "Epoch 27/50\n",
      "\u001b[1m2832/2832\u001b[0m \u001b[32m━━━━━━━━━━━━━━━━━━━━\u001b[0m\u001b[37m\u001b[0m \u001b[1m3s\u001b[0m 1ms/step - loss: 160.0213 - val_loss: 134.0722\n",
      "Epoch 28/50\n",
      "\u001b[1m2832/2832\u001b[0m \u001b[32m━━━━━━━━━━━━━━━━━━━━\u001b[0m\u001b[37m\u001b[0m \u001b[1m3s\u001b[0m 1ms/step - loss: 134.7629 - val_loss: 134.0721\n",
      "Epoch 29/50\n",
      "\u001b[1m2832/2832\u001b[0m \u001b[32m━━━━━━━━━━━━━━━━━━━━\u001b[0m\u001b[37m\u001b[0m \u001b[1m3s\u001b[0m 1ms/step - loss: 140.7424 - val_loss: 134.0716\n",
      "Epoch 30/50\n",
      "\u001b[1m2832/2832\u001b[0m \u001b[32m━━━━━━━━━━━━━━━━━━━━\u001b[0m\u001b[37m\u001b[0m \u001b[1m4s\u001b[0m 1ms/step - loss: 136.1983 - val_loss: 134.0718\n",
      "Epoch 31/50\n",
      "\u001b[1m2832/2832\u001b[0m \u001b[32m━━━━━━━━━━━━━━━━━━━━\u001b[0m\u001b[37m\u001b[0m \u001b[1m3s\u001b[0m 1ms/step - loss: 148.4780 - val_loss: 134.0719\n",
      "Epoch 32/50\n",
      "\u001b[1m2832/2832\u001b[0m \u001b[32m━━━━━━━━━━━━━━━━━━━━\u001b[0m\u001b[37m\u001b[0m \u001b[1m3s\u001b[0m 1ms/step - loss: 149.5535 - val_loss: 134.0717\n",
      "Epoch 33/50\n",
      "\u001b[1m2832/2832\u001b[0m \u001b[32m━━━━━━━━━━━━━━━━━━━━\u001b[0m\u001b[37m\u001b[0m \u001b[1m3s\u001b[0m 1ms/step - loss: 123.5077 - val_loss: 134.0721\n",
      "Epoch 34/50\n",
      "\u001b[1m2832/2832\u001b[0m \u001b[32m━━━━━━━━━━━━━━━━━━━━\u001b[0m\u001b[37m\u001b[0m \u001b[1m3s\u001b[0m 1ms/step - loss: 140.6656 - val_loss: 134.0725\n",
      "Epoch 35/50\n",
      "\u001b[1m2832/2832\u001b[0m \u001b[32m━━━━━━━━━━━━━━━━━━━━\u001b[0m\u001b[37m\u001b[0m \u001b[1m4s\u001b[0m 1ms/step - loss: 140.3637 - val_loss: 134.0716\n",
      "Epoch 36/50\n",
      "\u001b[1m2832/2832\u001b[0m \u001b[32m━━━━━━━━━━━━━━━━━━━━\u001b[0m\u001b[37m\u001b[0m \u001b[1m3s\u001b[0m 1ms/step - loss: 139.9488 - val_loss: 134.0718\n",
      "Epoch 37/50\n",
      "\u001b[1m2832/2832\u001b[0m \u001b[32m━━━━━━━━━━━━━━━━━━━━\u001b[0m\u001b[37m\u001b[0m \u001b[1m4s\u001b[0m 1ms/step - loss: 135.2780 - val_loss: 134.0720\n",
      "Epoch 38/50\n",
      "\u001b[1m2832/2832\u001b[0m \u001b[32m━━━━━━━━━━━━━━━━━━━━\u001b[0m\u001b[37m\u001b[0m \u001b[1m3s\u001b[0m 1ms/step - loss: 141.4317 - val_loss: 134.0713\n",
      "Epoch 39/50\n",
      "\u001b[1m2832/2832\u001b[0m \u001b[32m━━━━━━━━━━━━━━━━━━━━\u001b[0m\u001b[37m\u001b[0m \u001b[1m4s\u001b[0m 1ms/step - loss: 127.4816 - val_loss: 134.0722\n",
      "Epoch 40/50\n",
      "\u001b[1m2832/2832\u001b[0m \u001b[32m━━━━━━━━━━━━━━━━━━━━\u001b[0m\u001b[37m\u001b[0m \u001b[1m3s\u001b[0m 998us/step - loss: 126.5080 - val_loss: 134.0727\n",
      "Epoch 41/50\n",
      "\u001b[1m2832/2832\u001b[0m \u001b[32m━━━━━━━━━━━━━━━━━━━━\u001b[0m\u001b[37m\u001b[0m \u001b[1m3s\u001b[0m 1ms/step - loss: 134.8305 - val_loss: 134.0729\n",
      "Epoch 42/50\n",
      "\u001b[1m2832/2832\u001b[0m \u001b[32m━━━━━━━━━━━━━━━━━━━━\u001b[0m\u001b[37m\u001b[0m \u001b[1m3s\u001b[0m 1ms/step - loss: 141.1236 - val_loss: 134.0721\n",
      "Epoch 43/50\n",
      "\u001b[1m2832/2832\u001b[0m \u001b[32m━━━━━━━━━━━━━━━━━━━━\u001b[0m\u001b[37m\u001b[0m \u001b[1m3s\u001b[0m 996us/step - loss: 140.2154 - val_loss: 134.0719\n",
      "Epoch 44/50\n",
      "\u001b[1m2832/2832\u001b[0m \u001b[32m━━━━━━━━━━━━━━━━━━━━\u001b[0m\u001b[37m\u001b[0m \u001b[1m4s\u001b[0m 2ms/step - loss: 131.7864 - val_loss: 134.0719\n",
      "Epoch 45/50\n",
      "\u001b[1m2832/2832\u001b[0m \u001b[32m━━━━━━━━━━━━━━━━━━━━\u001b[0m\u001b[37m\u001b[0m \u001b[1m3s\u001b[0m 1ms/step - loss: 140.6489 - val_loss: 134.0722\n",
      "Epoch 46/50\n",
      "\u001b[1m2832/2832\u001b[0m \u001b[32m━━━━━━━━━━━━━━━━━━━━\u001b[0m\u001b[37m\u001b[0m \u001b[1m3s\u001b[0m 1ms/step - loss: 137.3617 - val_loss: 134.0723\n",
      "Epoch 47/50\n",
      "\u001b[1m2832/2832\u001b[0m \u001b[32m━━━━━━━━━━━━━━━━━━━━\u001b[0m\u001b[37m\u001b[0m \u001b[1m3s\u001b[0m 1ms/step - loss: 144.5806 - val_loss: 134.0713\n",
      "Epoch 48/50\n",
      "\u001b[1m2832/2832\u001b[0m \u001b[32m━━━━━━━━━━━━━━━━━━━━\u001b[0m\u001b[37m\u001b[0m \u001b[1m3s\u001b[0m 1ms/step - loss: 130.5663 - val_loss: 134.0728\n",
      "Epoch 49/50\n",
      "\u001b[1m2832/2832\u001b[0m \u001b[32m━━━━━━━━━━━━━━━━━━━━\u001b[0m\u001b[37m\u001b[0m \u001b[1m3s\u001b[0m 1ms/step - loss: 127.3282 - val_loss: 134.0723\n",
      "Epoch 50/50\n",
      "\u001b[1m2832/2832\u001b[0m \u001b[32m━━━━━━━━━━━━━━━━━━━━\u001b[0m\u001b[37m\u001b[0m \u001b[1m3s\u001b[0m 1ms/step - loss: 131.6039 - val_loss: 134.0712\n"
     ]
    }
   ],
   "source": [
    "# Entrenar el modelo\n",
    "history = model.fit(X_train, y_train, epochs=50, validation_data=(X_val, y_val))"
   ]
  },
  {
   "cell_type": "code",
   "execution_count": 33,
   "id": "2062ea47-471c-4fcb-af10-4b8f038a364f",
   "metadata": {},
   "outputs": [
    {
     "name": "stdout",
     "output_type": "stream",
     "text": [
      "\u001b[1m708/708\u001b[0m \u001b[32m━━━━━━━━━━━━━━━━━━━━\u001b[0m\u001b[37m\u001b[0m \u001b[1m1s\u001b[0m 748us/step - loss: 179.8071\n"
     ]
    }
   ],
   "source": [
    "# Evaluar el modelo con el conjunto de prueba\n",
    "test_loss = model.evaluate(X_test, y_test)"
   ]
  },
  {
   "cell_type": "code",
   "execution_count": 34,
   "id": "b1e3f36d-2677-4c28-97ee-16ec5ecd6b63",
   "metadata": {},
   "outputs": [
    {
     "data": {
      "image/png": "[encoded data removed]",
      "text/plain": [
       "<Figure size 640x480 with 1 Axes>"
      ]
     },
     "metadata": {},
     "output_type": "display_data"
    }
   ],
   "source": [
    "# Opcional: Visualizar la curva de pérdida\n",
    "import matplotlib.pyplot as plt\n",
    "\n",
    "plt.plot(history.history['loss'], label='loss')\n",
    "plt.plot(history.history['val_loss'], label='val_loss')\n",
    "plt.title('Curva de Pérdida del Modelo')\n",
    "plt.xlabel('Épocas')\n",
    "plt.ylabel('Pérdida MSE')\n",
    "plt.legend()\n",
    "plt.show()"
   ]
  },
  {
   "cell_type": "code",
   "execution_count": 35,
   "id": "677685e9-1123-432d-b50e-baff1b5f93cc",
   "metadata": {},
   "outputs": [
    {
     "data": {
      "image/png": "[encoded data removed]",
      "text/plain": [
       "<Figure size 1000x500 with 1 Axes>"
      ]
     },
     "metadata": {},
     "output_type": "display_data"
    }
   ],
   "source": [
    "import matplotlib.pyplot as plt\n",
    "\n",
    "# Suponiendo que 'history' es el resultado devuelto por model.fit()\n",
    "plt.figure(figsize=(10, 5))\n",
    "\n",
    "# Graficar la pérdida de entrenamiento\n",
    "plt.plot(history.history['loss'], label='Pérdida de entrenamiento')\n",
    "\n",
    "# Graficar la pérdida de validación\n",
    "plt.plot(history.history['val_loss'], label='Pérdida de validación')\n",
    "\n",
    "plt.title('Pérdida del Modelo Durante el Entrenamiento')\n",
    "plt.xlabel('Épocas')\n",
    "plt.ylabel('Pérdida MSE')\n",
    "plt.legend()\n",
    "\n",
    "plt.show()\n"
   ]
  },
  {
   "cell_type": "code",
   "execution_count": null,
   "id": "cf3f75e0-f50d-4bf8-ad0a-87b2e63c9c39",
   "metadata": {},
   "outputs": [],
   "source": []
  }
 ],
 "metadata": {
  "kernelspec": {
   "display_name": "Python 3 (ipykernel)",
   "language": "python",
   "name": "python3"
  },
  "language_info": {
   "codemirror_mode": {
    "name": "ipython",
    "version": 3
   },
   "file_extension": ".py",
   "mimetype": "text/x-python",
   "name": "python",
   "nbconvert_exporter": "python",
   "pygments_lexer": "ipython3",
   "version": "3.10.12"
  }
 },
 "nbformat": 4,
 "nbformat_minor": 5
}
